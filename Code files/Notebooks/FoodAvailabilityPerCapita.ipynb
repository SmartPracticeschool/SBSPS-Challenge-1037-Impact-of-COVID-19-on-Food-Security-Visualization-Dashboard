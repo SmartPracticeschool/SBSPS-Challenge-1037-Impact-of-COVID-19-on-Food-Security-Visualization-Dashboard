{
 "cells": [
  {
   "cell_type": "code",
   "execution_count": 2,
   "metadata": {},
   "outputs": [],
   "source": [
    "import numpy as np\n",
    "import pandas as pd"
   ]
  },
  {
   "cell_type": "code",
   "execution_count": 3,
   "metadata": {},
   "outputs": [],
   "source": [
    "data= pd.read_csv(\"Food_Security_Dataset.csv\")\n",
    "dataset = data.dropna(axis = 0, how ='any')"
   ]
  },
  {
   "cell_type": "code",
   "execution_count": 4,
   "metadata": {},
   "outputs": [
    {
     "data": {
      "text/plain": [
       "pandas.core.frame.DataFrame"
      ]
     },
     "execution_count": 4,
     "metadata": {},
     "output_type": "execute_result"
    }
   ],
   "source": [
    "type(dataset)"
   ]
  },
  {
   "cell_type": "code",
   "execution_count": 5,
   "metadata": {},
   "outputs": [
    {
     "data": {
      "text/html": [
       "<div>\n",
       "<style scoped>\n",
       "    .dataframe tbody tr th:only-of-type {\n",
       "        vertical-align: middle;\n",
       "    }\n",
       "\n",
       "    .dataframe tbody tr th {\n",
       "        vertical-align: top;\n",
       "    }\n",
       "\n",
       "    .dataframe thead th {\n",
       "        text-align: right;\n",
       "    }\n",
       "</style>\n",
       "<table border=\"1\" class=\"dataframe\">\n",
       "  <thead>\n",
       "    <tr style=\"text-align: right;\">\n",
       "      <th></th>\n",
       "      <th>Year</th>\n",
       "      <th>Area Harvested (1000 Ha)</th>\n",
       "      <th>Production Quantity (1000 MT)</th>\n",
       "      <th>Import Quantity (1000 MT)</th>\n",
       "      <th>Export Quantity (1000MT)</th>\n",
       "      <th>Food Availability per capita (kg/cap/yr)</th>\n",
       "    </tr>\n",
       "  </thead>\n",
       "  <tbody>\n",
       "    <tr>\n",
       "      <th>0</th>\n",
       "      <td>1991</td>\n",
       "      <td>101579</td>\n",
       "      <td>160567</td>\n",
       "      <td>354.82</td>\n",
       "      <td>1357.15</td>\n",
       "      <td>160.27</td>\n",
       "    </tr>\n",
       "    <tr>\n",
       "      <th>1</th>\n",
       "      <td>1992</td>\n",
       "      <td>101022</td>\n",
       "      <td>170775</td>\n",
       "      <td>3419.77</td>\n",
       "      <td>881.73</td>\n",
       "      <td>161.30</td>\n",
       "    </tr>\n",
       "    <tr>\n",
       "      <th>2</th>\n",
       "      <td>1993</td>\n",
       "      <td>101683</td>\n",
       "      <td>173973</td>\n",
       "      <td>456.87</td>\n",
       "      <td>1156.24</td>\n",
       "      <td>162.60</td>\n",
       "    </tr>\n",
       "    <tr>\n",
       "      <th>3</th>\n",
       "      <td>1994</td>\n",
       "      <td>101621</td>\n",
       "      <td>176532</td>\n",
       "      <td>259.94</td>\n",
       "      <td>4325.88</td>\n",
       "      <td>162.51</td>\n",
       "    </tr>\n",
       "    <tr>\n",
       "      <th>4</th>\n",
       "      <td>1995</td>\n",
       "      <td>100897</td>\n",
       "      <td>176854</td>\n",
       "      <td>256.87</td>\n",
       "      <td>4770.66</td>\n",
       "      <td>160.49</td>\n",
       "    </tr>\n",
       "    <tr>\n",
       "      <th>5</th>\n",
       "      <td>1996</td>\n",
       "      <td>101778</td>\n",
       "      <td>183435</td>\n",
       "      <td>2009.77</td>\n",
       "      <td>3960.52</td>\n",
       "      <td>162.32</td>\n",
       "    </tr>\n",
       "    <tr>\n",
       "      <th>6</th>\n",
       "      <td>1997</td>\n",
       "      <td>101802</td>\n",
       "      <td>188763</td>\n",
       "      <td>2485.05</td>\n",
       "      <td>4544.10</td>\n",
       "      <td>161.81</td>\n",
       "    </tr>\n",
       "    <tr>\n",
       "      <th>7</th>\n",
       "      <td>1998</td>\n",
       "      <td>102498</td>\n",
       "      <td>189047</td>\n",
       "      <td>1719.31</td>\n",
       "      <td>2595.25</td>\n",
       "      <td>161.24</td>\n",
       "    </tr>\n",
       "    <tr>\n",
       "      <th>8</th>\n",
       "      <td>1999</td>\n",
       "      <td>103750</td>\n",
       "      <td>197813</td>\n",
       "      <td>2048.17</td>\n",
       "      <td>1993.78</td>\n",
       "      <td>161.41</td>\n",
       "    </tr>\n",
       "    <tr>\n",
       "      <th>9</th>\n",
       "      <td>2000</td>\n",
       "      <td>104081</td>\n",
       "      <td>199321</td>\n",
       "      <td>262.25</td>\n",
       "      <td>4096.11</td>\n",
       "      <td>159.41</td>\n",
       "    </tr>\n",
       "    <tr>\n",
       "      <th>10</th>\n",
       "      <td>2001</td>\n",
       "      <td>101850</td>\n",
       "      <td>202976</td>\n",
       "      <td>220.89</td>\n",
       "      <td>9369.74</td>\n",
       "      <td>162.53</td>\n",
       "    </tr>\n",
       "    <tr>\n",
       "      <th>11</th>\n",
       "      <td>2002</td>\n",
       "      <td>96101</td>\n",
       "      <td>177665</td>\n",
       "      <td>193.60</td>\n",
       "      <td>8160.14</td>\n",
       "      <td>158.73</td>\n",
       "    </tr>\n",
       "    <tr>\n",
       "      <th>12</th>\n",
       "      <td>2003</td>\n",
       "      <td>100279</td>\n",
       "      <td>198327</td>\n",
       "      <td>213.62</td>\n",
       "      <td>8187.06</td>\n",
       "      <td>156.45</td>\n",
       "    </tr>\n",
       "    <tr>\n",
       "      <th>13</th>\n",
       "      <td>2004</td>\n",
       "      <td>99644</td>\n",
       "      <td>196263</td>\n",
       "      <td>212.25</td>\n",
       "      <td>8005.56</td>\n",
       "      <td>159.14</td>\n",
       "    </tr>\n",
       "    <tr>\n",
       "      <th>14</th>\n",
       "      <td>2005</td>\n",
       "      <td>101421</td>\n",
       "      <td>202581</td>\n",
       "      <td>583.21</td>\n",
       "      <td>5692.49</td>\n",
       "      <td>157.60</td>\n",
       "    </tr>\n",
       "    <tr>\n",
       "      <th>15</th>\n",
       "      <td>2006</td>\n",
       "      <td>101173</td>\n",
       "      <td>204638</td>\n",
       "      <td>6675.63</td>\n",
       "      <td>6927.34</td>\n",
       "      <td>157.58</td>\n",
       "    </tr>\n",
       "    <tr>\n",
       "      <th>16</th>\n",
       "      <td>2007</td>\n",
       "      <td>102955</td>\n",
       "      <td>221482</td>\n",
       "      <td>1823.69</td>\n",
       "      <td>6922.58</td>\n",
       "      <td>157.28</td>\n",
       "    </tr>\n",
       "    <tr>\n",
       "      <th>17</th>\n",
       "      <td>2008</td>\n",
       "      <td>103345</td>\n",
       "      <td>226900</td>\n",
       "      <td>37.24</td>\n",
       "      <td>6064.57</td>\n",
       "      <td>154.98</td>\n",
       "    </tr>\n",
       "    <tr>\n",
       "      <th>18</th>\n",
       "      <td>2009</td>\n",
       "      <td>99404</td>\n",
       "      <td>213325</td>\n",
       "      <td>207.36</td>\n",
       "      <td>5181.68</td>\n",
       "      <td>157.81</td>\n",
       "    </tr>\n",
       "    <tr>\n",
       "      <th>19</th>\n",
       "      <td>2010</td>\n",
       "      <td>102262</td>\n",
       "      <td>229832</td>\n",
       "      <td>211.70</td>\n",
       "      <td>8062.36</td>\n",
       "      <td>157.78</td>\n",
       "    </tr>\n",
       "    <tr>\n",
       "      <th>20</th>\n",
       "      <td>2011</td>\n",
       "      <td>102824</td>\n",
       "      <td>245139</td>\n",
       "      <td>13.91</td>\n",
       "      <td>16509.40</td>\n",
       "      <td>154.60</td>\n",
       "    </tr>\n",
       "    <tr>\n",
       "      <th>21</th>\n",
       "      <td>2012</td>\n",
       "      <td>99684</td>\n",
       "      <td>250976</td>\n",
       "      <td>53.39</td>\n",
       "      <td>24759.71</td>\n",
       "      <td>157.62</td>\n",
       "    </tr>\n",
       "    <tr>\n",
       "      <th>22</th>\n",
       "      <td>2013</td>\n",
       "      <td>101501</td>\n",
       "      <td>254786</td>\n",
       "      <td>49.46</td>\n",
       "      <td>21889.38</td>\n",
       "      <td>157.53</td>\n",
       "    </tr>\n",
       "    <tr>\n",
       "      <th>23</th>\n",
       "      <td>2014</td>\n",
       "      <td>100976</td>\n",
       "      <td>256231</td>\n",
       "      <td>179.31</td>\n",
       "      <td>14986.56</td>\n",
       "      <td>155.19</td>\n",
       "    </tr>\n",
       "  </tbody>\n",
       "</table>\n",
       "</div>"
      ],
      "text/plain": [
       "    Year  Area Harvested (1000 Ha)  Production Quantity (1000 MT)  \\\n",
       "0   1991                    101579                         160567   \n",
       "1   1992                    101022                         170775   \n",
       "2   1993                    101683                         173973   \n",
       "3   1994                    101621                         176532   \n",
       "4   1995                    100897                         176854   \n",
       "5   1996                    101778                         183435   \n",
       "6   1997                    101802                         188763   \n",
       "7   1998                    102498                         189047   \n",
       "8   1999                    103750                         197813   \n",
       "9   2000                    104081                         199321   \n",
       "10  2001                    101850                         202976   \n",
       "11  2002                     96101                         177665   \n",
       "12  2003                    100279                         198327   \n",
       "13  2004                     99644                         196263   \n",
       "14  2005                    101421                         202581   \n",
       "15  2006                    101173                         204638   \n",
       "16  2007                    102955                         221482   \n",
       "17  2008                    103345                         226900   \n",
       "18  2009                     99404                         213325   \n",
       "19  2010                    102262                         229832   \n",
       "20  2011                    102824                         245139   \n",
       "21  2012                     99684                         250976   \n",
       "22  2013                    101501                         254786   \n",
       "23  2014                    100976                         256231   \n",
       "\n",
       "    Import Quantity (1000 MT)  Export Quantity (1000MT)  \\\n",
       "0                      354.82                   1357.15   \n",
       "1                     3419.77                    881.73   \n",
       "2                      456.87                   1156.24   \n",
       "3                      259.94                   4325.88   \n",
       "4                      256.87                   4770.66   \n",
       "5                     2009.77                   3960.52   \n",
       "6                     2485.05                   4544.10   \n",
       "7                     1719.31                   2595.25   \n",
       "8                     2048.17                   1993.78   \n",
       "9                      262.25                   4096.11   \n",
       "10                     220.89                   9369.74   \n",
       "11                     193.60                   8160.14   \n",
       "12                     213.62                   8187.06   \n",
       "13                     212.25                   8005.56   \n",
       "14                     583.21                   5692.49   \n",
       "15                    6675.63                   6927.34   \n",
       "16                    1823.69                   6922.58   \n",
       "17                      37.24                   6064.57   \n",
       "18                     207.36                   5181.68   \n",
       "19                     211.70                   8062.36   \n",
       "20                      13.91                  16509.40   \n",
       "21                      53.39                  24759.71   \n",
       "22                      49.46                  21889.38   \n",
       "23                     179.31                  14986.56   \n",
       "\n",
       "    Food Availability per capita (kg/cap/yr)  \n",
       "0                                     160.27  \n",
       "1                                     161.30  \n",
       "2                                     162.60  \n",
       "3                                     162.51  \n",
       "4                                     160.49  \n",
       "5                                     162.32  \n",
       "6                                     161.81  \n",
       "7                                     161.24  \n",
       "8                                     161.41  \n",
       "9                                     159.41  \n",
       "10                                    162.53  \n",
       "11                                    158.73  \n",
       "12                                    156.45  \n",
       "13                                    159.14  \n",
       "14                                    157.60  \n",
       "15                                    157.58  \n",
       "16                                    157.28  \n",
       "17                                    154.98  \n",
       "18                                    157.81  \n",
       "19                                    157.78  \n",
       "20                                    154.60  \n",
       "21                                    157.62  \n",
       "22                                    157.53  \n",
       "23                                    155.19  "
      ]
     },
     "execution_count": 5,
     "metadata": {},
     "output_type": "execute_result"
    }
   ],
   "source": [
    "dataset"
   ]
  },
  {
   "cell_type": "code",
   "execution_count": 6,
   "metadata": {},
   "outputs": [],
   "source": [
    "x= dataset.iloc[:,:1]"
   ]
  },
  {
   "cell_type": "code",
   "execution_count": 7,
   "metadata": {},
   "outputs": [
    {
     "data": {
      "text/html": [
       "<div>\n",
       "<style scoped>\n",
       "    .dataframe tbody tr th:only-of-type {\n",
       "        vertical-align: middle;\n",
       "    }\n",
       "\n",
       "    .dataframe tbody tr th {\n",
       "        vertical-align: top;\n",
       "    }\n",
       "\n",
       "    .dataframe thead th {\n",
       "        text-align: right;\n",
       "    }\n",
       "</style>\n",
       "<table border=\"1\" class=\"dataframe\">\n",
       "  <thead>\n",
       "    <tr style=\"text-align: right;\">\n",
       "      <th></th>\n",
       "      <th>Year</th>\n",
       "    </tr>\n",
       "  </thead>\n",
       "  <tbody>\n",
       "    <tr>\n",
       "      <th>0</th>\n",
       "      <td>1991</td>\n",
       "    </tr>\n",
       "    <tr>\n",
       "      <th>1</th>\n",
       "      <td>1992</td>\n",
       "    </tr>\n",
       "    <tr>\n",
       "      <th>2</th>\n",
       "      <td>1993</td>\n",
       "    </tr>\n",
       "    <tr>\n",
       "      <th>3</th>\n",
       "      <td>1994</td>\n",
       "    </tr>\n",
       "    <tr>\n",
       "      <th>4</th>\n",
       "      <td>1995</td>\n",
       "    </tr>\n",
       "    <tr>\n",
       "      <th>5</th>\n",
       "      <td>1996</td>\n",
       "    </tr>\n",
       "    <tr>\n",
       "      <th>6</th>\n",
       "      <td>1997</td>\n",
       "    </tr>\n",
       "    <tr>\n",
       "      <th>7</th>\n",
       "      <td>1998</td>\n",
       "    </tr>\n",
       "    <tr>\n",
       "      <th>8</th>\n",
       "      <td>1999</td>\n",
       "    </tr>\n",
       "    <tr>\n",
       "      <th>9</th>\n",
       "      <td>2000</td>\n",
       "    </tr>\n",
       "    <tr>\n",
       "      <th>10</th>\n",
       "      <td>2001</td>\n",
       "    </tr>\n",
       "    <tr>\n",
       "      <th>11</th>\n",
       "      <td>2002</td>\n",
       "    </tr>\n",
       "    <tr>\n",
       "      <th>12</th>\n",
       "      <td>2003</td>\n",
       "    </tr>\n",
       "    <tr>\n",
       "      <th>13</th>\n",
       "      <td>2004</td>\n",
       "    </tr>\n",
       "    <tr>\n",
       "      <th>14</th>\n",
       "      <td>2005</td>\n",
       "    </tr>\n",
       "    <tr>\n",
       "      <th>15</th>\n",
       "      <td>2006</td>\n",
       "    </tr>\n",
       "    <tr>\n",
       "      <th>16</th>\n",
       "      <td>2007</td>\n",
       "    </tr>\n",
       "    <tr>\n",
       "      <th>17</th>\n",
       "      <td>2008</td>\n",
       "    </tr>\n",
       "    <tr>\n",
       "      <th>18</th>\n",
       "      <td>2009</td>\n",
       "    </tr>\n",
       "    <tr>\n",
       "      <th>19</th>\n",
       "      <td>2010</td>\n",
       "    </tr>\n",
       "    <tr>\n",
       "      <th>20</th>\n",
       "      <td>2011</td>\n",
       "    </tr>\n",
       "    <tr>\n",
       "      <th>21</th>\n",
       "      <td>2012</td>\n",
       "    </tr>\n",
       "    <tr>\n",
       "      <th>22</th>\n",
       "      <td>2013</td>\n",
       "    </tr>\n",
       "    <tr>\n",
       "      <th>23</th>\n",
       "      <td>2014</td>\n",
       "    </tr>\n",
       "  </tbody>\n",
       "</table>\n",
       "</div>"
      ],
      "text/plain": [
       "    Year\n",
       "0   1991\n",
       "1   1992\n",
       "2   1993\n",
       "3   1994\n",
       "4   1995\n",
       "5   1996\n",
       "6   1997\n",
       "7   1998\n",
       "8   1999\n",
       "9   2000\n",
       "10  2001\n",
       "11  2002\n",
       "12  2003\n",
       "13  2004\n",
       "14  2005\n",
       "15  2006\n",
       "16  2007\n",
       "17  2008\n",
       "18  2009\n",
       "19  2010\n",
       "20  2011\n",
       "21  2012\n",
       "22  2013\n",
       "23  2014"
      ]
     },
     "execution_count": 7,
     "metadata": {},
     "output_type": "execute_result"
    }
   ],
   "source": [
    "x"
   ]
  },
  {
   "cell_type": "code",
   "execution_count": 8,
   "metadata": {},
   "outputs": [
    {
     "data": {
      "text/plain": [
       "pandas.core.frame.DataFrame"
      ]
     },
     "execution_count": 8,
     "metadata": {},
     "output_type": "execute_result"
    }
   ],
   "source": [
    "type(x)"
   ]
  },
  {
   "cell_type": "code",
   "execution_count": 9,
   "metadata": {},
   "outputs": [],
   "source": [
    "x=x.to_numpy()"
   ]
  },
  {
   "cell_type": "code",
   "execution_count": 10,
   "metadata": {},
   "outputs": [
    {
     "data": {
      "text/plain": [
       "array([[1991],\n",
       "       [1992],\n",
       "       [1993],\n",
       "       [1994],\n",
       "       [1995],\n",
       "       [1996],\n",
       "       [1997],\n",
       "       [1998],\n",
       "       [1999],\n",
       "       [2000],\n",
       "       [2001],\n",
       "       [2002],\n",
       "       [2003],\n",
       "       [2004],\n",
       "       [2005],\n",
       "       [2006],\n",
       "       [2007],\n",
       "       [2008],\n",
       "       [2009],\n",
       "       [2010],\n",
       "       [2011],\n",
       "       [2012],\n",
       "       [2013],\n",
       "       [2014]], dtype=int64)"
      ]
     },
     "execution_count": 10,
     "metadata": {},
     "output_type": "execute_result"
    }
   ],
   "source": [
    "x"
   ]
  },
  {
   "cell_type": "code",
   "execution_count": 11,
   "metadata": {},
   "outputs": [
    {
     "data": {
      "text/plain": [
       "2"
      ]
     },
     "execution_count": 11,
     "metadata": {},
     "output_type": "execute_result"
    }
   ],
   "source": [
    "x.ndim"
   ]
  },
  {
   "cell_type": "code",
   "execution_count": 12,
   "metadata": {},
   "outputs": [
    {
     "data": {
      "text/plain": [
       "numpy.ndarray"
      ]
     },
     "execution_count": 12,
     "metadata": {},
     "output_type": "execute_result"
    }
   ],
   "source": [
    "type(x)"
   ]
  },
  {
   "cell_type": "code",
   "execution_count": 13,
   "metadata": {},
   "outputs": [],
   "source": [
    "y= dataset.iloc[:,5:]"
   ]
  },
  {
   "cell_type": "code",
   "execution_count": 14,
   "metadata": {},
   "outputs": [
    {
     "data": {
      "text/html": [
       "<div>\n",
       "<style scoped>\n",
       "    .dataframe tbody tr th:only-of-type {\n",
       "        vertical-align: middle;\n",
       "    }\n",
       "\n",
       "    .dataframe tbody tr th {\n",
       "        vertical-align: top;\n",
       "    }\n",
       "\n",
       "    .dataframe thead th {\n",
       "        text-align: right;\n",
       "    }\n",
       "</style>\n",
       "<table border=\"1\" class=\"dataframe\">\n",
       "  <thead>\n",
       "    <tr style=\"text-align: right;\">\n",
       "      <th></th>\n",
       "      <th>Food Availability per capita (kg/cap/yr)</th>\n",
       "    </tr>\n",
       "  </thead>\n",
       "  <tbody>\n",
       "    <tr>\n",
       "      <th>0</th>\n",
       "      <td>160.27</td>\n",
       "    </tr>\n",
       "    <tr>\n",
       "      <th>1</th>\n",
       "      <td>161.30</td>\n",
       "    </tr>\n",
       "    <tr>\n",
       "      <th>2</th>\n",
       "      <td>162.60</td>\n",
       "    </tr>\n",
       "    <tr>\n",
       "      <th>3</th>\n",
       "      <td>162.51</td>\n",
       "    </tr>\n",
       "    <tr>\n",
       "      <th>4</th>\n",
       "      <td>160.49</td>\n",
       "    </tr>\n",
       "    <tr>\n",
       "      <th>5</th>\n",
       "      <td>162.32</td>\n",
       "    </tr>\n",
       "    <tr>\n",
       "      <th>6</th>\n",
       "      <td>161.81</td>\n",
       "    </tr>\n",
       "    <tr>\n",
       "      <th>7</th>\n",
       "      <td>161.24</td>\n",
       "    </tr>\n",
       "    <tr>\n",
       "      <th>8</th>\n",
       "      <td>161.41</td>\n",
       "    </tr>\n",
       "    <tr>\n",
       "      <th>9</th>\n",
       "      <td>159.41</td>\n",
       "    </tr>\n",
       "    <tr>\n",
       "      <th>10</th>\n",
       "      <td>162.53</td>\n",
       "    </tr>\n",
       "    <tr>\n",
       "      <th>11</th>\n",
       "      <td>158.73</td>\n",
       "    </tr>\n",
       "    <tr>\n",
       "      <th>12</th>\n",
       "      <td>156.45</td>\n",
       "    </tr>\n",
       "    <tr>\n",
       "      <th>13</th>\n",
       "      <td>159.14</td>\n",
       "    </tr>\n",
       "    <tr>\n",
       "      <th>14</th>\n",
       "      <td>157.60</td>\n",
       "    </tr>\n",
       "    <tr>\n",
       "      <th>15</th>\n",
       "      <td>157.58</td>\n",
       "    </tr>\n",
       "    <tr>\n",
       "      <th>16</th>\n",
       "      <td>157.28</td>\n",
       "    </tr>\n",
       "    <tr>\n",
       "      <th>17</th>\n",
       "      <td>154.98</td>\n",
       "    </tr>\n",
       "    <tr>\n",
       "      <th>18</th>\n",
       "      <td>157.81</td>\n",
       "    </tr>\n",
       "    <tr>\n",
       "      <th>19</th>\n",
       "      <td>157.78</td>\n",
       "    </tr>\n",
       "    <tr>\n",
       "      <th>20</th>\n",
       "      <td>154.60</td>\n",
       "    </tr>\n",
       "    <tr>\n",
       "      <th>21</th>\n",
       "      <td>157.62</td>\n",
       "    </tr>\n",
       "    <tr>\n",
       "      <th>22</th>\n",
       "      <td>157.53</td>\n",
       "    </tr>\n",
       "    <tr>\n",
       "      <th>23</th>\n",
       "      <td>155.19</td>\n",
       "    </tr>\n",
       "  </tbody>\n",
       "</table>\n",
       "</div>"
      ],
      "text/plain": [
       "    Food Availability per capita (kg/cap/yr)\n",
       "0                                     160.27\n",
       "1                                     161.30\n",
       "2                                     162.60\n",
       "3                                     162.51\n",
       "4                                     160.49\n",
       "5                                     162.32\n",
       "6                                     161.81\n",
       "7                                     161.24\n",
       "8                                     161.41\n",
       "9                                     159.41\n",
       "10                                    162.53\n",
       "11                                    158.73\n",
       "12                                    156.45\n",
       "13                                    159.14\n",
       "14                                    157.60\n",
       "15                                    157.58\n",
       "16                                    157.28\n",
       "17                                    154.98\n",
       "18                                    157.81\n",
       "19                                    157.78\n",
       "20                                    154.60\n",
       "21                                    157.62\n",
       "22                                    157.53\n",
       "23                                    155.19"
      ]
     },
     "execution_count": 14,
     "metadata": {},
     "output_type": "execute_result"
    }
   ],
   "source": [
    "y"
   ]
  },
  {
   "cell_type": "code",
   "execution_count": 15,
   "metadata": {},
   "outputs": [],
   "source": [
    "y=y.to_numpy()"
   ]
  },
  {
   "cell_type": "code",
   "execution_count": 16,
   "metadata": {},
   "outputs": [
    {
     "data": {
      "text/plain": [
       "array([[160.27],\n",
       "       [161.3 ],\n",
       "       [162.6 ],\n",
       "       [162.51],\n",
       "       [160.49],\n",
       "       [162.32],\n",
       "       [161.81],\n",
       "       [161.24],\n",
       "       [161.41],\n",
       "       [159.41],\n",
       "       [162.53],\n",
       "       [158.73],\n",
       "       [156.45],\n",
       "       [159.14],\n",
       "       [157.6 ],\n",
       "       [157.58],\n",
       "       [157.28],\n",
       "       [154.98],\n",
       "       [157.81],\n",
       "       [157.78],\n",
       "       [154.6 ],\n",
       "       [157.62],\n",
       "       [157.53],\n",
       "       [155.19]])"
      ]
     },
     "execution_count": 16,
     "metadata": {},
     "output_type": "execute_result"
    }
   ],
   "source": [
    "y"
   ]
  },
  {
   "cell_type": "code",
   "execution_count": 17,
   "metadata": {},
   "outputs": [],
   "source": [
    "from sklearn.model_selection import train_test_split                #previously cros_validation was used in sklearn\n",
    "x_train,x_test,y_train,y_test=train_test_split(x,y,test_size=0.3,random_state=0)"
   ]
  },
  {
   "cell_type": "code",
   "execution_count": 18,
   "metadata": {},
   "outputs": [
    {
     "data": {
      "text/plain": [
       "array([[2007],\n",
       "       [1999],\n",
       "       [1997],\n",
       "       [2008],\n",
       "       [1995],\n",
       "       [1993],\n",
       "       [1996],\n",
       "       [2009],\n",
       "       [2000],\n",
       "       [1998],\n",
       "       [2010],\n",
       "       [1994],\n",
       "       [1991],\n",
       "       [2012],\n",
       "       [2006],\n",
       "       [2003]], dtype=int64)"
      ]
     },
     "execution_count": 18,
     "metadata": {},
     "output_type": "execute_result"
    }
   ],
   "source": [
    "x_train"
   ]
  },
  {
   "cell_type": "code",
   "execution_count": 19,
   "metadata": {},
   "outputs": [
    {
     "data": {
      "text/plain": [
       "array([[2002],\n",
       "       [2001],\n",
       "       [2013],\n",
       "       [2005],\n",
       "       [2011],\n",
       "       [1992],\n",
       "       [2004],\n",
       "       [2014]], dtype=int64)"
      ]
     },
     "execution_count": 19,
     "metadata": {},
     "output_type": "execute_result"
    }
   ],
   "source": [
    "x_test"
   ]
  },
  {
   "cell_type": "code",
   "execution_count": 20,
   "metadata": {},
   "outputs": [],
   "source": [
    "from sklearn.linear_model import ElasticNet"
   ]
  },
  {
   "cell_type": "code",
   "execution_count": 22,
   "metadata": {},
   "outputs": [],
   "source": [
    "en=ElasticNet()"
   ]
  },
  {
   "cell_type": "code",
   "execution_count": 23,
   "metadata": {},
   "outputs": [
    {
     "data": {
      "text/plain": [
       "ElasticNet(alpha=1.0, copy_X=True, fit_intercept=True, l1_ratio=0.5,\n",
       "           max_iter=1000, normalize=False, positive=False, precompute=False,\n",
       "           random_state=None, selection='cyclic', tol=0.0001, warm_start=False)"
      ]
     },
     "execution_count": 23,
     "metadata": {},
     "output_type": "execute_result"
    }
   ],
   "source": [
    "en.fit(x_train,y_train)"
   ]
  },
  {
   "cell_type": "code",
   "execution_count": 24,
   "metadata": {},
   "outputs": [],
   "source": [
    "y_predict=en.predict(x_test)"
   ]
  },
  {
   "cell_type": "code",
   "execution_count": 25,
   "metadata": {},
   "outputs": [
    {
     "data": {
      "text/plain": [
       "array([159.22700036, 159.50757138, 156.14071919, 158.38528731,\n",
       "       156.70186122, 162.03271052, 158.66585833, 155.86014817])"
      ]
     },
     "execution_count": 25,
     "metadata": {},
     "output_type": "execute_result"
    }
   ],
   "source": [
    "y_predict"
   ]
  },
  {
   "cell_type": "code",
   "execution_count": 26,
   "metadata": {},
   "outputs": [
    {
     "data": {
      "text/plain": [
       "array([[158.73],\n",
       "       [162.53],\n",
       "       [157.53],\n",
       "       [157.6 ],\n",
       "       [154.6 ],\n",
       "       [161.3 ],\n",
       "       [159.14],\n",
       "       [155.19]])"
      ]
     },
     "execution_count": 26,
     "metadata": {},
     "output_type": "execute_result"
    }
   ],
   "source": [
    "y_test"
   ]
  },
  {
   "cell_type": "code",
   "execution_count": 27,
   "metadata": {},
   "outputs": [],
   "source": [
    "with open('Food_Security_Dataset_Predictions.csv','a') as f:\n",
    "    f.write(\"\\nFood Availability per capita\")\n",
    "    f.write(\"\\n\")\n",
    "    f.close()\n",
    "with open('Food_Security_Dataset_Predictions.csv','ab') as f:\n",
    "    for i in range(2015,2026):\n",
    "        ypred=en.predict(np.array([[i]]))\n",
    "        ypred\n",
    "        np.savetxt(f, ypred, delimiter=\",\", fmt='%.4f')"
   ]
  },
  {
   "cell_type": "code",
   "execution_count": null,
   "metadata": {},
   "outputs": [],
   "source": []
  },
  {
   "cell_type": "code",
   "execution_count": null,
   "metadata": {},
   "outputs": [],
   "source": []
  },
  {
   "cell_type": "code",
   "execution_count": null,
   "metadata": {},
   "outputs": [],
   "source": []
  }
 ],
 "metadata": {
  "kernelspec": {
   "display_name": "Python 3",
   "language": "python",
   "name": "python3"
  },
  "language_info": {
   "codemirror_mode": {
    "name": "ipython",
    "version": 3
   },
   "file_extension": ".py",
   "mimetype": "text/x-python",
   "name": "python",
   "nbconvert_exporter": "python",
   "pygments_lexer": "ipython3",
   "version": "3.7.6"
  }
 },
 "nbformat": 4,
 "nbformat_minor": 4
}
